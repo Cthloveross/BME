{
 "cells": [
  {
   "cell_type": "code",
   "execution_count": 4,
   "metadata": {},
   "outputs": [
    {
     "data": {
      "text/plain": [
       "['processor/preprocessor_config.json']"
      ]
     },
     "execution_count": 4,
     "metadata": {},
     "output_type": "execute_result"
    }
   ],
   "source": [
    "from transformers import AutoImageProcessor, SwinForMaskedImageModeling\n",
    "\n",
    "# Load model and processor\n",
    "processor_path = \"processor\"  # Replace with actual path\n",
    "model_path = \"model\"          # Replace with actual path\n",
    "\n",
    "image_processor = AutoImageProcessor.from_pretrained(\"microsoft/swin-base-simmim-window6-192\")\n",
    "model = SwinForMaskedImageModeling.from_pretrained(\"microsoft/swin-base-simmim-window6-192\")\n",
    "model.save_pretrained(model_path)\n",
    "image_processor.save_pretrained(processor_path)"
   ]
  },
  {
   "cell_type": "code",
   "execution_count": 2,
   "metadata": {},
   "outputs": [],
   "source": [
    "import torch\n",
    "from torch.utils.data import Dataset, DataLoader, Subset\n",
    "from PIL import Image\n",
    "import os\n",
    "import numpy as np\n",
    "from sklearn.model_selection import train_test_split\n",
    "\n",
    "\n",
    "class MaskedImageDataset(Dataset):\n",
    "    def __init__(self, original_dir, masked_dirs, image_size):\n",
    "        self.original_dir = original_dir\n",
    "        self.masked_dirs = masked_dirs\n",
    "        self.image_size = image_size\n",
    "\n",
    "        self.original_images = sorted(os.listdir(original_dir))\n",
    "        self.masked_images = []\n",
    "\n",
    "        # Collect images from all masked directories\n",
    "        for masked_dir in masked_dirs:\n",
    "            masked_images = sorted(os.listdir(masked_dir))\n",
    "            self.masked_images.extend([(masked_dir, img) for img in masked_images])\n",
    "\n",
    "        # Filter out invalid images\n",
    "        self.original_images = [img for img in self.original_images if self.is_valid_image(os.path.join(original_dir, img))]\n",
    "        self.masked_images = [entry for entry in self.masked_images if self.is_valid_image(os.path.join(entry[0], entry[1]))]\n",
    "\n",
    "    def __len__(self):\n",
    "        return len(self.original_images)\n",
    "\n",
    "    def __getitem__(self, idx):\n",
    "        original_image_name = self.original_images[idx]\n",
    "        masked_dir, masked_image_name = self.masked_images[idx]\n",
    "\n",
    "        original_image = Image.open(os.path.join(self.original_dir, original_image_name)).convert(\"RGB\")\n",
    "        masked_image = Image.open(os.path.join(masked_dir, masked_image_name)).convert(\"RGB\")\n",
    "\n",
    "        original_image = original_image.resize((self.image_size, self.image_size))\n",
    "        masked_image = masked_image.resize((self.image_size, self.image_size))\n",
    "\n",
    "        original_image_tensor = torch.tensor(np.array(original_image).astype(np.float32) / 255.0).permute(2, 0, 1)\n",
    "        masked_image_tensor = torch.tensor(np.array(masked_image).astype(np.float32) / 255.0).permute(2, 0, 1)\n",
    "\n",
    "        return masked_image_tensor, original_image_tensor\n",
    "\n",
    "    @staticmethod\n",
    "    def is_valid_image(filepath):\n",
    "        try:\n",
    "            with Image.open(filepath) as img:\n",
    "                img.verify()  # Check if it is a valid image\n",
    "            return True\n",
    "        except (IOError, SyntaxError):\n",
    "            return False\n",
    "\n",
    "\n",
    "def split_dataset_per_breed(original_dir, masked_root_dir, image_size, train_ratio=0.8):\n",
    "    breed_name = os.path.basename(original_dir)\n",
    "    masked_dirs = [os.path.join(masked_root_dir, f\"{breed_name}_{color}\") for color in [\"black\", \"blue\", \"red\", \"white\", \"yellow\"]]\n",
    "    \n",
    "    dataset = MaskedImageDataset(original_dir, masked_dirs, image_size)\n",
    "    \n",
    "    # Calculate sizes for splits\n",
    "    total_size = len(dataset)\n",
    "    train_size = int(train_ratio * total_size)\n",
    "    test_size = total_size - train_size\n",
    "\n",
    "    indices = list(range(total_size))\n",
    "    train_indices, test_indices = train_test_split(indices, train_size=train_size, random_state=42)\n",
    "    \n",
    "    train_subset = Subset(dataset, train_indices)\n",
    "    test_subset = Subset(dataset, test_indices)\n",
    "    \n",
    "    return train_subset, test_subset\n",
    "\n",
    "\n",
    "# Directories containing images\n",
    "original_dirs = [\n",
    "    \"data/dataset/Beagle\",\n",
    "    \"data/dataset/Boxer\",\n",
    "    \"data/dataset/Bulldog\",\n",
    "    \"data/dataset/Dachshund\",\n",
    "    \"data/dataset/German_Shepherd\"\n",
    "]\n",
    "masked_root_dir = \"new_dataset_5050\"\n",
    "image_size = 192\n",
    "\n",
    "# Splitting datasets for each breed\n",
    "train_datasets = []\n",
    "test_datasets = []\n",
    "\n",
    "for original_dir in original_dirs:\n",
    "    train_subset, test_subset = split_dataset_per_breed(original_dir, masked_root_dir, image_size)\n",
    "    train_datasets.append(train_subset)\n",
    "    test_datasets.append(test_subset)\n",
    "\n",
    "# Combine datasets from all breeds\n",
    "train_dataset = torch.utils.data.ConcatDataset(train_datasets)\n",
    "test_dataset = torch.utils.data.ConcatDataset(test_datasets)\n",
    "\n",
    "# Initialize DataLoaders\n",
    "train_dataloader = DataLoader(train_dataset, batch_size=8, shuffle=True)\n",
    "test_dataloader = DataLoader(test_dataset, batch_size=4, shuffle=False)"
   ]
  },
  {
   "cell_type": "code",
   "execution_count": 32,
   "metadata": {},
   "outputs": [
    {
     "data": {
      "text/plain": [
       "5"
      ]
     },
     "execution_count": 32,
     "metadata": {},
     "output_type": "execute_result"
    }
   ],
   "source": [
    "len(test_datasets)"
   ]
  },
  {
   "cell_type": "code",
   "execution_count": 5,
   "metadata": {},
   "outputs": [],
   "source": [
    "from transformers import AutoImageProcessor, SwinForMaskedImageModeling\n",
    "\n",
    "# Load model and processor\n",
    "processor_path = \"processor\"  # Replace with actual path\n",
    "model_path = \"model\"          # Replace with actual path\n",
    "\n",
    "image_processor = AutoImageProcessor.from_pretrained(processor_path)\n",
    "model = SwinForMaskedImageModeling.from_pretrained(model_path, ignore_mismatched_sizes=True)\n"
   ]
  },
  {
   "cell_type": "code",
   "execution_count": 6,
   "metadata": {},
   "outputs": [],
   "source": [
    "import torch.nn as nn\n",
    "import torch.optim as optim\n",
    "\n",
    "# nn.L1Loss()\n",
    "# nn.MSELoss()\n",
    "criterion = nn.L1Loss()  # Mean Squared Error loss for reconstruction\n",
    "optimizer = optim.AdamW(model.parameters(), lr=1e-4)\n"
   ]
  },
  {
   "cell_type": "code",
   "execution_count": 7,
   "metadata": {},
   "outputs": [
    {
     "name": "stdout",
     "output_type": "stream",
     "text": [
      "Epoch [1/10], Loss: 0.1099, LR: 0.000098\n",
      "Epoch [2/10], Loss: 0.0659, LR: 0.000090\n",
      "Epoch [3/10], Loss: 0.0590, LR: 0.000079\n",
      "Epoch [4/10], Loss: 0.0520, LR: 0.000065\n",
      "Epoch [5/10], Loss: 0.0474, LR: 0.000050\n",
      "Epoch [6/10], Loss: 0.0447, LR: 0.000035\n",
      "Epoch [7/10], Loss: 0.0431, LR: 0.000021\n",
      "Epoch [8/10], Loss: 0.0422, LR: 0.000010\n",
      "Epoch [9/10], Loss: 0.0406, LR: 0.000002\n",
      "Epoch [10/10], Loss: 0.0402, LR: 0.000000\n"
     ]
    }
   ],
   "source": [
    "import torch\n",
    "from torch.optim.lr_scheduler import CosineAnnealingLR\n",
    "\n",
    "# Initialize optimizer with weight decay\n",
    "optimizer = optim.AdamW(model.parameters(), lr=1e-4, weight_decay=1e-2)\n",
    "\n",
    "# Cosine learning rate scheduler\n",
    "scheduler = CosineAnnealingLR(optimizer, T_max=10)  # 10 epochs\n",
    "\n",
    "num_epochs = 10\n",
    "device = torch.device(\"cuda\" if torch.cuda.is_available() else \"cpu\")\n",
    "model.to(device)\n",
    "\n",
    "for epoch in range(num_epochs):\n",
    "    model.train()\n",
    "    total_loss = 0.0\n",
    "\n",
    "    for masked_images, original_images in train_dataloader:\n",
    "        masked_images = masked_images.to(device)\n",
    "        original_images = original_images.to(device)\n",
    "\n",
    "        # Generate mask positions\n",
    "        batch_size, _, height, width = masked_images.shape\n",
    "        patch_size = model.config.patch_size\n",
    "        num_patches_per_row = height // patch_size\n",
    "        num_patches = num_patches_per_row ** 2\n",
    "        bool_masked_pos = torch.zeros((batch_size, num_patches), dtype=torch.bool).to(device)\n",
    "\n",
    "        # Example: Random masking (adjust as needed)\n",
    "        for i in range(batch_size):\n",
    "            mask_indices = torch.randint(0, num_patches, (num_patches // 10,))  # Mask 10% patches\n",
    "            bool_masked_pos[i, mask_indices] = True\n",
    "\n",
    "        # Forward pass\n",
    "        outputs = model(pixel_values=masked_images, bool_masked_pos=bool_masked_pos)\n",
    "        loss = criterion(outputs.reconstruction, original_images)\n",
    "\n",
    "        # Backward pass\n",
    "        optimizer.zero_grad()\n",
    "        loss.backward()\n",
    "        optimizer.step()\n",
    "\n",
    "        total_loss += loss.item()\n",
    "\n",
    "    # Step the scheduler\n",
    "    scheduler.step()\n",
    "    \n",
    "    avg_loss = total_loss / len(train_dataloader)\n",
    "    print(f\"Epoch [{epoch+1}/{num_epochs}], Loss: {avg_loss:.4f}, LR: {scheduler.get_last_lr()[0]:.6f}\")\n",
    "\n",
    "    # Save model after each epoch\n",
    "    model.save_pretrained(f\"fine_tuned_model_epoch_{epoch+1}\")\n"
   ]
  },
  {
   "cell_type": "code",
   "execution_count": 8,
   "metadata": {},
   "outputs": [],
   "source": [
    "import matplotlib.pyplot as plt\n",
    "import numpy as np\n",
    "from PIL import Image\n",
    "\n",
    "def evaluate_and_reconstruct(model, dataloader, save_reconstructions=False, output_dir=\"reconstructed_images\"):\n",
    "    model.eval()\n",
    "    mse = 0.0\n",
    "    total_samples = 0\n",
    "    reconstructed_images_list = []\n",
    "\n",
    "    with torch.no_grad():\n",
    "        for batch_idx, (masked_images, original_images) in enumerate(dataloader):\n",
    "            masked_images = masked_images.to(device)\n",
    "            original_images = original_images.to(device)\n",
    "\n",
    "            # Generate mask positions (same as training)\n",
    "            batch_size, _, height, width = masked_images.shape\n",
    "            patch_size = model.config.patch_size\n",
    "            num_patches_per_row = height // patch_size\n",
    "            num_patches = num_patches_per_row ** 2\n",
    "            bool_masked_pos = torch.zeros((batch_size, num_patches), dtype=torch.bool).to(device)\n",
    "\n",
    "            outputs = model(pixel_values=masked_images, bool_masked_pos=bool_masked_pos)\n",
    "            reconstructed_images = outputs.reconstruction\n",
    "\n",
    "            # Calculate loss\n",
    "            mse += nn.functional.l1_loss(reconstructed_images, original_images, reduction=\"sum\").item()\n",
    "            total_samples += batch_size\n",
    "\n",
    "            # Convert reconstructed images to numpy for saving/visualization\n",
    "            reconstructed_images_np = (\n",
    "                reconstructed_images.cpu().permute(0, 2, 3, 1).numpy()\n",
    "            )  # Shape: (batch_size, height, width, channels)\n",
    "            reconstructed_images_np = np.clip(reconstructed_images_np, 0, 1)  # Ensure values are in [0, 1]\n",
    "\n",
    "            # Save or visualize\n",
    "            if save_reconstructions:\n",
    "                for i in range(batch_size):\n",
    "                    img = (reconstructed_images_np[i] * 255).astype(np.uint8)  # Convert to [0, 255]\n",
    "                    Image.fromarray(img).save(f\"{output_dir}/reconstructed_{batch_idx * batch_size + i}.png\")\n",
    "                   \n",
    "\n",
    "\n",
    "            reconstructed_images_list.append(reconstructed_images_np)\n",
    "\n",
    "    mse = mse / total_samples  # Average MSE\n",
    "    return mse, np.concatenate(reconstructed_images_list, axis=0)\n"
   ]
  },
  {
   "cell_type": "code",
   "execution_count": 9,
   "metadata": {},
   "outputs": [
    {
     "name": "stdout",
     "output_type": "stream",
     "text": [
      "Validation L1 loss: 3799.1011\n",
      "Validation L1 loss: 3806.2742\n",
      "Validation L1 loss: 3586.1477\n",
      "Validation L1 loss: 4090.8860\n",
      "Validation L1 loss: 4058.1747\n"
     ]
    }
   ],
   "source": [
    "# [\"black\", \"blue\", \"red\", \"white\", \"yellow\"]\n",
    "for i in range(len(test_datasets)):\n",
    "    test_dataloader = DataLoader(test_datasets[i], batch_size=8, shuffle=False)\n",
    "    val_loss, reconstructed_images = evaluate_and_reconstruct(\n",
    "        model,\n",
    "        test_dataloader,\n",
    "        save_reconstructions=True,\n",
    "        output_dir=\"./reconstructed_images_1\"\n",
    "    )\n",
    "    print(f\"Validation L1 loss: {val_loss:.4f}\")\n"
   ]
  },
  {
   "cell_type": "code",
   "execution_count": 12,
   "metadata": {},
   "outputs": [
    {
     "data": {
      "text/plain": [
       "89874104"
      ]
     },
     "execution_count": 12,
     "metadata": {},
     "output_type": "execute_result"
    }
   ],
   "source": [
    "sum(p.numel() for p in model.parameters())"
   ]
  },
  {
   "cell_type": "code",
   "execution_count": null,
   "metadata": {},
   "outputs": [],
   "source": []
  }
 ],
 "metadata": {
  "kernelspec": {
   "display_name": "base",
   "language": "python",
   "name": "python3"
  },
  "language_info": {
   "codemirror_mode": {
    "name": "ipython",
    "version": 3
   },
   "file_extension": ".py",
   "mimetype": "text/x-python",
   "name": "python",
   "nbconvert_exporter": "python",
   "pygments_lexer": "ipython3",
   "version": "3.10.12"
  }
 },
 "nbformat": 4,
 "nbformat_minor": 2
}
